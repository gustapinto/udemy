{
 "cells": [
  {
   "cell_type": "code",
   "execution_count": 2,
   "id": "ecb2f148",
   "metadata": {},
   "outputs": [],
   "source": [
    "import pandas as pd"
   ]
  },
  {
   "cell_type": "markdown",
   "id": "90259821",
   "metadata": {},
   "source": [
    "# Series\n",
    "\n",
    "Series são uma estrutura de dados do Pandas que atua como uma almagamação entre dicionários e listas, representando valores tanto pela sua chave quanto pelo seu indíce posicional, se posicionando quase como uma linha de tabela"
   ]
  },
  {
   "cell_type": "markdown",
   "id": "bba38645",
   "metadata": {},
   "source": [
    "## Criando Series a partir de listas\n",
    "\n",
    "Series são criadas a partir de uma lista que é passada como a fonte de dados, vale notar que Series são ordenadas, herdando a ordem dos elementos da lista usada para sua criação\n",
    "\n",
    "Ao criarmos uma lista podemos ver os tipos de dados contidos nessa lista a partir do `dtype` exibido"
   ]
  },
  {
   "cell_type": "code",
   "execution_count": 10,
   "id": "57f487e8",
   "metadata": {},
   "outputs": [
    {
     "data": {
      "text/plain": [
       "0     Chocolate\n",
       "1       Vanilla\n",
       "2    Strawberry\n",
       "3    Rum Raisin\n",
       "dtype: object"
      ]
     },
     "execution_count": 10,
     "metadata": {},
     "output_type": "execute_result"
    }
   ],
   "source": [
    "ice_creams = ['Chocolate', 'Vanilla', 'Strawberry', 'Rum Raisin']\n",
    "\n",
    "pd.Series(ice_creams)"
   ]
  },
  {
   "cell_type": "code",
   "execution_count": 8,
   "id": "8243b04e",
   "metadata": {},
   "outputs": [
    {
     "data": {
      "text/plain": [
       "0     4\n",
       "1     8\n",
       "2    15\n",
       "3    16\n",
       "4    23\n",
       "5    42\n",
       "dtype: int64"
      ]
     },
     "execution_count": 8,
     "metadata": {},
     "output_type": "execute_result"
    }
   ],
   "source": [
    "lottery = [4, 8, 15, 16, 23, 42]\n",
    "\n",
    "pd.Series(lottery)"
   ]
  },
  {
   "cell_type": "code",
   "execution_count": 11,
   "id": "29fad715",
   "metadata": {},
   "outputs": [
    {
     "data": {
      "text/plain": [
       "0     True\n",
       "1    False\n",
       "2    False\n",
       "3    False\n",
       "4     True\n",
       "dtype: bool"
      ]
     },
     "execution_count": 11,
     "metadata": {},
     "output_type": "execute_result"
    }
   ],
   "source": [
    "registrations = [True, False, False, False, True]\n",
    "\n",
    "pd.Series(registrations)"
   ]
  },
  {
   "cell_type": "markdown",
   "id": "2a79a517",
   "metadata": {},
   "source": [
    "## Criando Series a partir de dicionários\n",
    "\n",
    "Series também podem ser criadas a partir de dicionários, com seu index sendo devidamente afetado para ser igual as chaves do dicionário que foi usado como fonte de dados\n",
    "\n",
    "Um dos benefícios de se usar uma Series criada a partir de um dicionário é que os elementos dessa Serie sempre serão ordenados, por exemplo com a Serie de sushis teriamos uma relação de chave x indíce da seguinte forma:\n",
    "- `Salmon` -> `0`\n",
    "- `Tuna` -> `1`\n",
    "- `Eel` -> `2`"
   ]
  },
  {
   "cell_type": "code",
   "execution_count": 15,
   "id": "12265aee",
   "metadata": {},
   "outputs": [
    {
     "data": {
      "text/plain": [
       "Salmon    Orange\n",
       "Tuna         Red\n",
       "Eel        Brown\n",
       "dtype: object"
      ]
     },
     "execution_count": 15,
     "metadata": {},
     "output_type": "execute_result"
    }
   ],
   "source": [
    "sushi = {\n",
    "    'Salmon': 'Orange',\n",
    "    'Tuna': 'Red',\n",
    "    'Eel': 'Brown',\n",
    "}\n",
    "\n",
    "pd.Series(sushi)"
   ]
  },
  {
   "cell_type": "markdown",
   "id": "b1d880e1",
   "metadata": {},
   "source": [
    "## Métodos de objetos Series"
   ]
  },
  {
   "cell_type": "code",
   "execution_count": 18,
   "id": "dd8eaacb",
   "metadata": {},
   "outputs": [
    {
     "data": {
      "text/plain": [
       "0    2.99\n",
       "1    4.45\n",
       "2    1.36\n",
       "dtype: float64"
      ]
     },
     "execution_count": 18,
     "metadata": {},
     "output_type": "execute_result"
    }
   ],
   "source": [
    "prices = pd.Series([2.99, 4.45, 1.36])\n",
    "prices"
   ]
  }
 ],
 "metadata": {
  "kernelspec": {
   "display_name": "Python 3 (ipykernel)",
   "language": "python",
   "name": "python3"
  },
  "language_info": {
   "codemirror_mode": {
    "name": "ipython",
    "version": 3
   },
   "file_extension": ".py",
   "mimetype": "text/x-python",
   "name": "python",
   "nbconvert_exporter": "python",
   "pygments_lexer": "ipython3",
   "version": "3.9.12"
  }
 },
 "nbformat": 4,
 "nbformat_minor": 5
}
